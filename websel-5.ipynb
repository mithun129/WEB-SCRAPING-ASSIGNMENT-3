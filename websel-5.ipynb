{
 "cells": [
  {
   "cell_type": "markdown",
   "id": "czech-defeat",
   "metadata": {},
   "source": [
    "#### write a program to scrape the geospatial condition (latitude, longitude) of acity searched on google maps "
   ]
  },
  {
   "cell_type": "code",
   "execution_count": 1,
   "id": "shared-support",
   "metadata": {},
   "outputs": [],
   "source": [
    "import pandas as pd\n",
    "import selenium\n",
    "from selenium import webdriver\n",
    "from selenium.common.exceptions import StaleElementReferenceException, NoSuchElementException"
   ]
  },
  {
   "cell_type": "code",
   "execution_count": 2,
   "id": "varied-treasurer",
   "metadata": {},
   "outputs": [],
   "source": [
    "import requests\n",
    "from selenium import webdriver\n",
    "\n",
    "browser = webdriver.Chrome()\n",
    "\n",
    "browser.get(\"https://maps.google.com/\")\n",
    "from bs4 import BeautifulSoup\n"
   ]
  },
  {
   "cell_type": "code",
   "execution_count": 3,
   "id": "sixth-nickel",
   "metadata": {},
   "outputs": [],
   "source": [
    "search_job = browser.find_element_by_id(\"searchboxinput\")\n",
    "search_job.send_keys(\"Chamundeshwari Temple, Mysore\")"
   ]
  },
  {
   "cell_type": "code",
   "execution_count": 4,
   "id": "quantitative-creativity",
   "metadata": {},
   "outputs": [],
   "source": [
    "search_btn = browser.find_element_by_id (\"searchbox-searchbutton\")\n",
    "search_btn.click()"
   ]
  },
  {
   "cell_type": "code",
   "execution_count": 7,
   "id": "federal-purchase",
   "metadata": {},
   "outputs": [],
   "source": [
    "url=\"https://www.google.com/maps/place/Chamundi+Hill/@12.2734769,76.662939,14z/data=!3m1!4b1!4m5!3m4!1s0x3baf6fc973a6438b:0xa43b25e3e24d508b!8m2!3d12.2752546!4d76.6701475\""
   ]
  },
  {
   "cell_type": "code",
   "execution_count": 8,
   "id": "intellectual-policy",
   "metadata": {},
   "outputs": [],
   "source": [
    "browser.get(url)"
   ]
  },
  {
   "cell_type": "code",
   "execution_count": 14,
   "id": "qualified-tribune",
   "metadata": {},
   "outputs": [
    {
     "data": {
      "text/plain": [
       "[<selenium.webdriver.remote.webelement.WebElement (session=\"481a0e7478e15f6c6c8bff3a426d3d19\", element=\"daf95788-acbd-4a13-92cc-e9d17efd2a97\")>]"
      ]
     },
     "execution_count": 14,
     "metadata": {},
     "output_type": "execute_result"
    }
   ],
   "source": [
    "title_tags = browser.find_elements_by_xpath(\"//button[@class='mapsConsumerUiCommonButton__link-like widget-reveal-card-lat-lng']\")\n",
    "title_tags"
   ]
  },
  {
   "cell_type": "code",
   "execution_count": 15,
   "id": "complex-might",
   "metadata": {},
   "outputs": [],
   "source": [
    "titles=[]\n",
    "for i in title_tags:\n",
    "    title=i.text\n",
    "    titles.append(title)"
   ]
  },
  {
   "cell_type": "code",
   "execution_count": 16,
   "id": "ultimate-valuation",
   "metadata": {},
   "outputs": [
    {
     "data": {
      "text/plain": [
       "['12.275909, 76.669977']"
      ]
     },
     "execution_count": 16,
     "metadata": {},
     "output_type": "execute_result"
    }
   ],
   "source": [
    "titles"
   ]
  },
  {
   "cell_type": "code",
   "execution_count": null,
   "id": "amateur-blackjack",
   "metadata": {},
   "outputs": [],
   "source": []
  }
 ],
 "metadata": {
  "kernelspec": {
   "display_name": "Python 3",
   "language": "python",
   "name": "python3"
  },
  "language_info": {
   "codemirror_mode": {
    "name": "ipython",
    "version": 3
   },
   "file_extension": ".py",
   "mimetype": "text/x-python",
   "name": "python",
   "nbconvert_exporter": "python",
   "pygments_lexer": "ipython3",
   "version": "3.9.2"
  }
 },
 "nbformat": 4,
 "nbformat_minor": 5
}
