{
 "cells": [
  {
   "cell_type": "code",
   "execution_count": 5,
   "id": "experienced-raise",
   "metadata": {},
   "outputs": [],
   "source": [
    "#import all the required libraries\n",
    "import pandas as pd\n",
    "import selenium\n",
    "from selenium import webdriver\n",
    "from selenium.common.exceptions import StaleElementReferenceException, NoSuchElementException\n"
   ]
  },
  {
   "cell_type": "code",
   "execution_count": 6,
   "id": "false-complexity",
   "metadata": {},
   "outputs": [],
   "source": [
    "import requests\n",
    "from selenium import webdriver\n",
    "\n",
    "browser = webdriver.Chrome()\n",
    "\n",
    "browser.get(\"https://www.flipkart.com/\")\n",
    "from bs4 import BeautifulSoup"
   ]
  },
  {
   "cell_type": "code",
   "execution_count": 10,
   "id": "noble-reception",
   "metadata": {},
   "outputs": [],
   "source": [
    "#locating the search bar\n",
    "search_bar=browser.find_element_by_class_name('_3704LK')\n",
    "search_bar.clear()\n",
    "search_bar.send_keys('oneplus Nord, pixel 4A')\n"
   ]
  },
  {
   "cell_type": "code",
   "execution_count": 13,
   "id": "brief-rubber",
   "metadata": {},
   "outputs": [],
   "source": [
    "button=browser.find_element_by_class_name('_34RNph')\n",
    "button.click()"
   ]
  },
  {
   "cell_type": "code",
   "execution_count": null,
   "id": "unlike-blair",
   "metadata": {},
   "outputs": [],
   "source": [
    "<div class=\"_4rR01T\">Micromax Bharat 4 Plus (Black, 16 GB)</div>"
   ]
  },
  {
   "cell_type": "code",
   "execution_count": 17,
   "id": "broadband-fence",
   "metadata": {},
   "outputs": [],
   "source": [
    "brand=[]\n",
    "brands=browser.find_elements_by_class_name('_4rR01T')\n",
    "for i in brands:\n",
    "    brand.append(i.text)"
   ]
  },
  {
   "cell_type": "code",
   "execution_count": 18,
   "id": "announced-citation",
   "metadata": {},
   "outputs": [
    {
     "data": {
      "text/plain": [
       "['Micromax Bharat 4 Plus (Black, 16 GB)',\n",
       " 'I Kall K 8 NEw / K-8Plus (Red, 16 GB)',\n",
       " 'SAMSUNG Galaxy S10 Plus (Ceramic White, 1 TB)',\n",
       " 'LAVA Pixel V2 Plus (White, 32 GB)',\n",
       " 'LAVA Pixel V2 Plus (Black, 16 GB)',\n",
       " 'LAVA Pixel V2 Plus (Black, 32 GB)',\n",
       " 'Micromax CANVAS 2 PLUS (jet black, 32 GB)',\n",
       " 'Reach Cogent+ (Orange, 8 GB)',\n",
       " 'Phicomm Clue 3 Plus VoLTE (Gold, 16 GB)',\n",
       " 'Zopo Flash X Plus (Rose Gold, 32 GB)',\n",
       " 'Nokia 5.1 Plus (Blue, 64 GB)']"
      ]
     },
     "execution_count": 18,
     "metadata": {},
     "output_type": "execute_result"
    }
   ],
   "source": [
    "brand"
   ]
  },
  {
   "cell_type": "code",
   "execution_count": 20,
   "id": "growing-andrews",
   "metadata": {},
   "outputs": [],
   "source": [
    "ratings=[]\n",
    "rating=browser.find_elements_by_class_name('_1lRcqv')#scraping description by class name = '_2mylT6'\n",
    "for i in rating:\n",
    "    ratings.append(i.text)"
   ]
  },
  {
   "cell_type": "code",
   "execution_count": 21,
   "id": "surprised-title",
   "metadata": {},
   "outputs": [
    {
     "data": {
      "text/plain": [
       "['3.1', '3', '4.5', '3.6', '3.6', '3.6', '3.7', '3.4', '1', '3.2', '3.8']"
      ]
     },
     "execution_count": 21,
     "metadata": {},
     "output_type": "execute_result"
    }
   ],
   "source": [
    "ratings"
   ]
  },
  {
   "cell_type": "code",
   "execution_count": null,
   "id": "functional-drain",
   "metadata": {},
   "outputs": [],
   "source": [
    "<ul class=\"_1xgFaf\"><li class=\"rgWa7D\">2 GB RAM | 16 GB ROM</li><li class=\"rgWa7D\">12.7 cm (5 inch) Display</li><li class=\"rgWa7D\">8MP Rear Camera</li><li class=\"rgWa7D\">3000 mAh Battery</li><li class=\"rgWa7D\">NA</li></ul>"
   ]
  },
  {
   "cell_type": "code",
   "execution_count": 26,
   "id": "daily-classics",
   "metadata": {},
   "outputs": [],
   "source": [
    "rams=[]\n",
    "ram=browser.find_elements_by_xpath(\"//ul[@class='_1xgFaf']/li[1]\")# scraping the discount from the xpath\n",
    "for i in ram:\n",
    "    rams.append(i.text)"
   ]
  },
  {
   "cell_type": "code",
   "execution_count": 27,
   "id": "industrial-denmark",
   "metadata": {},
   "outputs": [
    {
     "data": {
      "text/plain": [
       "['2 GB RAM | 16 GB ROM',\n",
       " '2 GB RAM | 16 GB ROM',\n",
       " '12 GB RAM | 1 TB ROM | Expandable Upto 512 GB',\n",
       " '3 GB RAM | 32 GB ROM | Expandable Upto 128 GB',\n",
       " '2 GB RAM | 16 GB ROM',\n",
       " '3 GB RAM | 32 GB ROM',\n",
       " '3 GB RAM | 32 GB ROM',\n",
       " '1 GB RAM | 8 GB ROM',\n",
       " '2 GB RAM | 16 GB ROM',\n",
       " '3 GB RAM | 32 GB ROM | Expandable Upto 128 GB',\n",
       " '6 GB RAM | 64 GB ROM']"
      ]
     },
     "execution_count": 27,
     "metadata": {},
     "output_type": "execute_result"
    }
   ],
   "source": [
    "rams"
   ]
  },
  {
   "cell_type": "code",
   "execution_count": 30,
   "id": "failing-vietnamese",
   "metadata": {},
   "outputs": [],
   "source": [
    "inches=[]\n",
    "inch=browser.find_elements_by_xpath(\"//ul[@class='_1xgFaf']/li[2]\")# scraping the discount from the xpath\n",
    "for i in inch:\n",
    "    inches.append(i.text)"
   ]
  },
  {
   "cell_type": "code",
   "execution_count": 31,
   "id": "annoying-shelter",
   "metadata": {},
   "outputs": [
    {
     "data": {
      "text/plain": [
       "['12.7 cm (5 inch) Display',\n",
       " '13.97 cm (5.5 inch) Display',\n",
       " '16.26 cm (6.4 inch) Quad HD+ Display',\n",
       " '12.7 cm (5 inch) HD Display',\n",
       " '12.7 cm (5 inch) Display',\n",
       " '12.7 cm (5 inch) HD Display',\n",
       " '14.48 cm (5.7 inch) Display',\n",
       " '10.16 cm (4 inch) Display',\n",
       " '12.7 cm (5 inch) Display',\n",
       " '13.97 cm (5.5 inch) Full HD Display',\n",
       " '14.73 cm (5.8 inch) Display']"
      ]
     },
     "execution_count": 31,
     "metadata": {},
     "output_type": "execute_result"
    }
   ],
   "source": [
    "inches"
   ]
  },
  {
   "cell_type": "code",
   "execution_count": 34,
   "id": "wicked-labor",
   "metadata": {},
   "outputs": [],
   "source": [
    "camera=[]\n",
    "cameras=browser.find_elements_by_xpath(\"//ul[@class='_1xgFaf']/li[3]\")# scraping the discount from the xpath\n",
    "for i in cameras:\n",
    "    camera.append(i.text)"
   ]
  },
  {
   "cell_type": "code",
   "execution_count": 35,
   "id": "southwest-milton",
   "metadata": {},
   "outputs": [
    {
     "data": {
      "text/plain": [
       "['8MP Rear Camera',\n",
       " '5MP Rear Camera',\n",
       " '16MP + 12MP | 10MP + 8MP Dual Front Camera',\n",
       " '13MP Rear Camera | 5MP Front Camera',\n",
       " '13MP + 13MP | 5MP + 5MP Dual Front Camera',\n",
       " '13MP Rear Camera | 5MP Front Camera',\n",
       " '13MP Rear Camera',\n",
       " '3.2MP Rear Camera',\n",
       " '8MP Rear Camera',\n",
       " '13MP Rear Camera | 8MP Front Camera',\n",
       " '13MP Rear Camera']"
      ]
     },
     "execution_count": 35,
     "metadata": {},
     "output_type": "execute_result"
    }
   ],
   "source": [
    "camera"
   ]
  },
  {
   "cell_type": "code",
   "execution_count": 38,
   "id": "blessed-foundation",
   "metadata": {},
   "outputs": [],
   "source": [
    "battery=[]\n",
    "batteries=browser.find_elements_by_xpath(\"//ul[@class='_1xgFaf']/li[4]\")# scraping the discount from the xpath\n",
    "for i in batteries:\n",
    "    battery.append(i.text)"
   ]
  },
  {
   "cell_type": "code",
   "execution_count": 53,
   "id": "northern-europe",
   "metadata": {},
   "outputs": [
    {
     "data": {
      "text/plain": [
       "['3000 mAh Battery',\n",
       " '2200 mAh Battery',\n",
       " '4100 mAh Lithium-ion Battery',\n",
       " '2500 mAh Battery',\n",
       " '2500 mAh Battery',\n",
       " '2500 mAh Battery',\n",
       " '4000 mAh Battery',\n",
       " '2000 mAh Battery',\n",
       " '3000 mAh Battery',\n",
       " '3100 mAh Battery',\n",
       " '3060 mAh Battery']"
      ]
     },
     "execution_count": 53,
     "metadata": {},
     "output_type": "execute_result"
    }
   ],
   "source": [
    "battery"
   ]
  },
  {
   "cell_type": "code",
   "execution_count": 43,
   "id": "professional-balance",
   "metadata": {},
   "outputs": [],
   "source": [
    "warranty=[]\n",
    "warranties=browser.find_elements_by_xpath(\"//ul[@class='_1xgFaf']/li[5]\")# scraping the discount from the xpath\n",
    "for i in warranties:\n",
    "    warranty.append(i.text)"
   ]
  },
  {
   "cell_type": "code",
   "execution_count": 44,
   "id": "verbal-radical",
   "metadata": {},
   "outputs": [
    {
     "data": {
      "text/plain": [
       "['NA',\n",
       " '1 Year manufacturing warranty for mobile and 6 Months for accessories',\n",
       " 'Exynos 9 9820 Processor',\n",
       " '6 Month Warranty',\n",
       " 'Brand Warranty of 1 Year Available for Mobile and 6 Months for Accessories',\n",
       " '6 Month Warranty',\n",
       " '1 year',\n",
       " '1 Year Manufacturer Warranty',\n",
       " '1 Year',\n",
       " 'MT6753 64-bit Processor',\n",
       " 'Brand Warranty of 1 Year Available for Mobile and 6 Months for Accessories']"
      ]
     },
     "execution_count": 44,
     "metadata": {},
     "output_type": "execute_result"
    }
   ],
   "source": [
    "warranty"
   ]
  },
  {
   "cell_type": "code",
   "execution_count": null,
   "id": "continued-atmosphere",
   "metadata": {},
   "outputs": [],
   "source": [
    "<div class=\"_30jeq3 _1_WHN1\">₹4,960</div>"
   ]
  },
  {
   "cell_type": "code",
   "execution_count": 46,
   "id": "electronic-modern",
   "metadata": {},
   "outputs": [],
   "source": [
    "price=[]\n",
    "prices=browser.find_elements_by_xpath(\"//div[@class='_30jeq3 _1_WHN1']\")# scraping the price from the xpath\n",
    "for i in prices:\n",
    "    price.append(i.text)"
   ]
  },
  {
   "cell_type": "code",
   "execution_count": 47,
   "id": "interior-deposit",
   "metadata": {},
   "outputs": [
    {
     "data": {
      "text/plain": [
       "['₹4,960',\n",
       " '₹4,170',\n",
       " '₹1,17,990',\n",
       " '₹8,999',\n",
       " '₹6,199',\n",
       " '₹7,290',\n",
       " '₹7,409',\n",
       " '₹2,290',\n",
       " '₹5,509',\n",
       " '₹4,949',\n",
       " '₹9,900']"
      ]
     },
     "execution_count": 47,
     "metadata": {},
     "output_type": "execute_result"
    }
   ],
   "source": [
    "price"
   ]
  },
  {
   "cell_type": "code",
   "execution_count": null,
   "id": "tribal-wings",
   "metadata": {},
   "outputs": [],
   "source": [
    "<div class=\"_3Ay6Sb\"><span>5% off</span></div>"
   ]
  },
  {
   "cell_type": "code",
   "execution_count": 61,
   "id": "retained-chance",
   "metadata": {},
   "outputs": [],
   "source": [
    "flipkart=pd.DataFrame({})\n",
    "flipkart['brand']=brand\n",
    "flipkart['ratings']=ratings\n",
    "flipkart['inches']=inches\n",
    "flipkart['camera']=camera\n",
    "flipkart['price']=price\n",
    "flipkart['Ram']=rams\n",
    "flipkart['battery']=battery\n",
    "flipkart['warranty']=warranty"
   ]
  },
  {
   "cell_type": "code",
   "execution_count": 62,
   "id": "rotary-reservation",
   "metadata": {},
   "outputs": [
    {
     "data": {
      "text/html": [
       "<div>\n",
       "<style scoped>\n",
       "    .dataframe tbody tr th:only-of-type {\n",
       "        vertical-align: middle;\n",
       "    }\n",
       "\n",
       "    .dataframe tbody tr th {\n",
       "        vertical-align: top;\n",
       "    }\n",
       "\n",
       "    .dataframe thead th {\n",
       "        text-align: right;\n",
       "    }\n",
       "</style>\n",
       "<table border=\"1\" class=\"dataframe\">\n",
       "  <thead>\n",
       "    <tr style=\"text-align: right;\">\n",
       "      <th></th>\n",
       "      <th>brand</th>\n",
       "      <th>ratings</th>\n",
       "      <th>inches</th>\n",
       "      <th>camera</th>\n",
       "      <th>price</th>\n",
       "      <th>Ram</th>\n",
       "      <th>battery</th>\n",
       "      <th>warranty</th>\n",
       "    </tr>\n",
       "  </thead>\n",
       "  <tbody>\n",
       "    <tr>\n",
       "      <th>0</th>\n",
       "      <td>Micromax Bharat 4 Plus (Black, 16 GB)</td>\n",
       "      <td>3.1</td>\n",
       "      <td>12.7 cm (5 inch) Display</td>\n",
       "      <td>8MP Rear Camera</td>\n",
       "      <td>₹4,960</td>\n",
       "      <td>2 GB RAM | 16 GB ROM</td>\n",
       "      <td>3000 mAh Battery</td>\n",
       "      <td>NA</td>\n",
       "    </tr>\n",
       "    <tr>\n",
       "      <th>1</th>\n",
       "      <td>I Kall K 8 NEw / K-8Plus (Red, 16 GB)</td>\n",
       "      <td>3</td>\n",
       "      <td>13.97 cm (5.5 inch) Display</td>\n",
       "      <td>5MP Rear Camera</td>\n",
       "      <td>₹4,170</td>\n",
       "      <td>2 GB RAM | 16 GB ROM</td>\n",
       "      <td>2200 mAh Battery</td>\n",
       "      <td>1 Year manufacturing warranty for mobile and 6...</td>\n",
       "    </tr>\n",
       "    <tr>\n",
       "      <th>2</th>\n",
       "      <td>SAMSUNG Galaxy S10 Plus (Ceramic White, 1 TB)</td>\n",
       "      <td>4.5</td>\n",
       "      <td>16.26 cm (6.4 inch) Quad HD+ Display</td>\n",
       "      <td>16MP + 12MP | 10MP + 8MP Dual Front Camera</td>\n",
       "      <td>₹1,17,990</td>\n",
       "      <td>12 GB RAM | 1 TB ROM | Expandable Upto 512 GB</td>\n",
       "      <td>4100 mAh Lithium-ion Battery</td>\n",
       "      <td>Exynos 9 9820 Processor</td>\n",
       "    </tr>\n",
       "    <tr>\n",
       "      <th>3</th>\n",
       "      <td>LAVA Pixel V2 Plus (White, 32 GB)</td>\n",
       "      <td>3.6</td>\n",
       "      <td>12.7 cm (5 inch) HD Display</td>\n",
       "      <td>13MP Rear Camera | 5MP Front Camera</td>\n",
       "      <td>₹8,999</td>\n",
       "      <td>3 GB RAM | 32 GB ROM | Expandable Upto 128 GB</td>\n",
       "      <td>2500 mAh Battery</td>\n",
       "      <td>6 Month Warranty</td>\n",
       "    </tr>\n",
       "    <tr>\n",
       "      <th>4</th>\n",
       "      <td>LAVA Pixel V2 Plus (Black, 16 GB)</td>\n",
       "      <td>3.6</td>\n",
       "      <td>12.7 cm (5 inch) Display</td>\n",
       "      <td>13MP + 13MP | 5MP + 5MP Dual Front Camera</td>\n",
       "      <td>₹6,199</td>\n",
       "      <td>2 GB RAM | 16 GB ROM</td>\n",
       "      <td>2500 mAh Battery</td>\n",
       "      <td>Brand Warranty of 1 Year Available for Mobile ...</td>\n",
       "    </tr>\n",
       "    <tr>\n",
       "      <th>5</th>\n",
       "      <td>LAVA Pixel V2 Plus (Black, 32 GB)</td>\n",
       "      <td>3.6</td>\n",
       "      <td>12.7 cm (5 inch) HD Display</td>\n",
       "      <td>13MP Rear Camera | 5MP Front Camera</td>\n",
       "      <td>₹7,290</td>\n",
       "      <td>3 GB RAM | 32 GB ROM</td>\n",
       "      <td>2500 mAh Battery</td>\n",
       "      <td>6 Month Warranty</td>\n",
       "    </tr>\n",
       "    <tr>\n",
       "      <th>6</th>\n",
       "      <td>Micromax CANVAS 2 PLUS (jet black, 32 GB)</td>\n",
       "      <td>3.7</td>\n",
       "      <td>14.48 cm (5.7 inch) Display</td>\n",
       "      <td>13MP Rear Camera</td>\n",
       "      <td>₹7,409</td>\n",
       "      <td>3 GB RAM | 32 GB ROM</td>\n",
       "      <td>4000 mAh Battery</td>\n",
       "      <td>1 year</td>\n",
       "    </tr>\n",
       "    <tr>\n",
       "      <th>7</th>\n",
       "      <td>Reach Cogent+ (Orange, 8 GB)</td>\n",
       "      <td>3.4</td>\n",
       "      <td>10.16 cm (4 inch) Display</td>\n",
       "      <td>3.2MP Rear Camera</td>\n",
       "      <td>₹2,290</td>\n",
       "      <td>1 GB RAM | 8 GB ROM</td>\n",
       "      <td>2000 mAh Battery</td>\n",
       "      <td>1 Year Manufacturer Warranty</td>\n",
       "    </tr>\n",
       "    <tr>\n",
       "      <th>8</th>\n",
       "      <td>Phicomm Clue 3 Plus VoLTE (Gold, 16 GB)</td>\n",
       "      <td>1</td>\n",
       "      <td>12.7 cm (5 inch) Display</td>\n",
       "      <td>8MP Rear Camera</td>\n",
       "      <td>₹5,509</td>\n",
       "      <td>2 GB RAM | 16 GB ROM</td>\n",
       "      <td>3000 mAh Battery</td>\n",
       "      <td>1 Year</td>\n",
       "    </tr>\n",
       "    <tr>\n",
       "      <th>9</th>\n",
       "      <td>Zopo Flash X Plus (Rose Gold, 32 GB)</td>\n",
       "      <td>3.2</td>\n",
       "      <td>13.97 cm (5.5 inch) Full HD Display</td>\n",
       "      <td>13MP Rear Camera | 8MP Front Camera</td>\n",
       "      <td>₹4,949</td>\n",
       "      <td>3 GB RAM | 32 GB ROM | Expandable Upto 128 GB</td>\n",
       "      <td>3100 mAh Battery</td>\n",
       "      <td>MT6753 64-bit Processor</td>\n",
       "    </tr>\n",
       "    <tr>\n",
       "      <th>10</th>\n",
       "      <td>Nokia 5.1 Plus (Blue, 64 GB)</td>\n",
       "      <td>3.8</td>\n",
       "      <td>14.73 cm (5.8 inch) Display</td>\n",
       "      <td>13MP Rear Camera</td>\n",
       "      <td>₹9,900</td>\n",
       "      <td>6 GB RAM | 64 GB ROM</td>\n",
       "      <td>3060 mAh Battery</td>\n",
       "      <td>Brand Warranty of 1 Year Available for Mobile ...</td>\n",
       "    </tr>\n",
       "  </tbody>\n",
       "</table>\n",
       "</div>"
      ],
      "text/plain": [
       "                                            brand ratings  \\\n",
       "0           Micromax Bharat 4 Plus (Black, 16 GB)     3.1   \n",
       "1           I Kall K 8 NEw / K-8Plus (Red, 16 GB)       3   \n",
       "2   SAMSUNG Galaxy S10 Plus (Ceramic White, 1 TB)     4.5   \n",
       "3               LAVA Pixel V2 Plus (White, 32 GB)     3.6   \n",
       "4               LAVA Pixel V2 Plus (Black, 16 GB)     3.6   \n",
       "5               LAVA Pixel V2 Plus (Black, 32 GB)     3.6   \n",
       "6       Micromax CANVAS 2 PLUS (jet black, 32 GB)     3.7   \n",
       "7                    Reach Cogent+ (Orange, 8 GB)     3.4   \n",
       "8         Phicomm Clue 3 Plus VoLTE (Gold, 16 GB)       1   \n",
       "9            Zopo Flash X Plus (Rose Gold, 32 GB)     3.2   \n",
       "10                   Nokia 5.1 Plus (Blue, 64 GB)     3.8   \n",
       "\n",
       "                                  inches  \\\n",
       "0               12.7 cm (5 inch) Display   \n",
       "1            13.97 cm (5.5 inch) Display   \n",
       "2   16.26 cm (6.4 inch) Quad HD+ Display   \n",
       "3            12.7 cm (5 inch) HD Display   \n",
       "4               12.7 cm (5 inch) Display   \n",
       "5            12.7 cm (5 inch) HD Display   \n",
       "6            14.48 cm (5.7 inch) Display   \n",
       "7              10.16 cm (4 inch) Display   \n",
       "8               12.7 cm (5 inch) Display   \n",
       "9    13.97 cm (5.5 inch) Full HD Display   \n",
       "10           14.73 cm (5.8 inch) Display   \n",
       "\n",
       "                                        camera      price  \\\n",
       "0                              8MP Rear Camera     ₹4,960   \n",
       "1                              5MP Rear Camera     ₹4,170   \n",
       "2   16MP + 12MP | 10MP + 8MP Dual Front Camera  ₹1,17,990   \n",
       "3          13MP Rear Camera | 5MP Front Camera     ₹8,999   \n",
       "4    13MP + 13MP | 5MP + 5MP Dual Front Camera     ₹6,199   \n",
       "5          13MP Rear Camera | 5MP Front Camera     ₹7,290   \n",
       "6                             13MP Rear Camera     ₹7,409   \n",
       "7                            3.2MP Rear Camera     ₹2,290   \n",
       "8                              8MP Rear Camera     ₹5,509   \n",
       "9          13MP Rear Camera | 8MP Front Camera     ₹4,949   \n",
       "10                            13MP Rear Camera     ₹9,900   \n",
       "\n",
       "                                              Ram  \\\n",
       "0                            2 GB RAM | 16 GB ROM   \n",
       "1                            2 GB RAM | 16 GB ROM   \n",
       "2   12 GB RAM | 1 TB ROM | Expandable Upto 512 GB   \n",
       "3   3 GB RAM | 32 GB ROM | Expandable Upto 128 GB   \n",
       "4                            2 GB RAM | 16 GB ROM   \n",
       "5                            3 GB RAM | 32 GB ROM   \n",
       "6                            3 GB RAM | 32 GB ROM   \n",
       "7                             1 GB RAM | 8 GB ROM   \n",
       "8                            2 GB RAM | 16 GB ROM   \n",
       "9   3 GB RAM | 32 GB ROM | Expandable Upto 128 GB   \n",
       "10                           6 GB RAM | 64 GB ROM   \n",
       "\n",
       "                         battery  \\\n",
       "0               3000 mAh Battery   \n",
       "1               2200 mAh Battery   \n",
       "2   4100 mAh Lithium-ion Battery   \n",
       "3               2500 mAh Battery   \n",
       "4               2500 mAh Battery   \n",
       "5               2500 mAh Battery   \n",
       "6               4000 mAh Battery   \n",
       "7               2000 mAh Battery   \n",
       "8               3000 mAh Battery   \n",
       "9               3100 mAh Battery   \n",
       "10              3060 mAh Battery   \n",
       "\n",
       "                                             warranty  \n",
       "0                                                  NA  \n",
       "1   1 Year manufacturing warranty for mobile and 6...  \n",
       "2                             Exynos 9 9820 Processor  \n",
       "3                                    6 Month Warranty  \n",
       "4   Brand Warranty of 1 Year Available for Mobile ...  \n",
       "5                                    6 Month Warranty  \n",
       "6                                              1 year  \n",
       "7                        1 Year Manufacturer Warranty  \n",
       "8                                              1 Year  \n",
       "9                             MT6753 64-bit Processor  \n",
       "10  Brand Warranty of 1 Year Available for Mobile ...  "
      ]
     },
     "execution_count": 62,
     "metadata": {},
     "output_type": "execute_result"
    }
   ],
   "source": [
    "flipkart"
   ]
  },
  {
   "cell_type": "code",
   "execution_count": null,
   "id": "indie-milton",
   "metadata": {},
   "outputs": [],
   "source": []
  }
 ],
 "metadata": {
  "kernelspec": {
   "display_name": "Python 3",
   "language": "python",
   "name": "python3"
  },
  "language_info": {
   "codemirror_mode": {
    "name": "ipython",
    "version": 3
   },
   "file_extension": ".py",
   "mimetype": "text/x-python",
   "name": "python",
   "nbconvert_exporter": "python",
   "pygments_lexer": "ipython3",
   "version": "3.9.2"
  }
 },
 "nbformat": 4,
 "nbformat_minor": 5
}
