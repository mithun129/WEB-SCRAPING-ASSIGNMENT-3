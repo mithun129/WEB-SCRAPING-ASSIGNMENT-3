{
 "cells": [
  {
   "cell_type": "markdown",
   "id": "small-atlas",
   "metadata": {},
   "source": [
    "### write a program to scrape the details of all funding deal from second quarter(i.e july 20-september20) from trak.in"
   ]
  },
  {
   "cell_type": "code",
   "execution_count": 1,
   "id": "magnetic-government",
   "metadata": {},
   "outputs": [],
   "source": [
    "import pandas as pd #for data visualization\n",
    "import selenium # importing selenium\n",
    "from selenium import webdriver#importing webdriver\n",
    "from selenium.common.exceptions import StaleElementReferenceException, NoSuchElementException #importing exception "
   ]
  },
  {
   "cell_type": "code",
   "execution_count": 2,
   "id": "effective-albania",
   "metadata": {},
   "outputs": [],
   "source": [
    "import requests\n",
    "from selenium import webdriver\n",
    "\n",
    "browser = webdriver.Chrome()\n",
    "\n",
    "browser.get(\"https://trak.in/india-startup-funding-investment-2015/\")\n",
    "from bs4 import BeautifulSoup\n"
   ]
  },
  {
   "cell_type": "code",
   "execution_count": 9,
   "id": "several-vinyl",
   "metadata": {},
   "outputs": [
    {
     "data": {
      "text/plain": [
       "[<selenium.webdriver.remote.webelement.WebElement (session=\"84ca3dd7af1c1907dc8db72b4dda72a4\", element=\"f89c0b97-aaff-4136-a32f-cc58c533b524\")>,\n",
       " <selenium.webdriver.remote.webelement.WebElement (session=\"84ca3dd7af1c1907dc8db72b4dda72a4\", element=\"ec8477f6-a04b-4d91-872d-82f6e2d22c72\")>,\n",
       " <selenium.webdriver.remote.webelement.WebElement (session=\"84ca3dd7af1c1907dc8db72b4dda72a4\", element=\"2271165d-c393-41b2-98c6-caf2acc3e910\")>,\n",
       " <selenium.webdriver.remote.webelement.WebElement (session=\"84ca3dd7af1c1907dc8db72b4dda72a4\", element=\"d515d3cd-efa2-4d3c-aa82-d2e6e0045a26\")>,\n",
       " <selenium.webdriver.remote.webelement.WebElement (session=\"84ca3dd7af1c1907dc8db72b4dda72a4\", element=\"4b7c15b0-a491-4770-af1e-325f7ec9fa25\")>,\n",
       " <selenium.webdriver.remote.webelement.WebElement (session=\"84ca3dd7af1c1907dc8db72b4dda72a4\", element=\"c4d47a71-1626-40fd-a4d9-0e33f0084608\")>,\n",
       " <selenium.webdriver.remote.webelement.WebElement (session=\"84ca3dd7af1c1907dc8db72b4dda72a4\", element=\"e4181cfa-6dc9-42a3-a7b8-b12caea16e1f\")>,\n",
       " <selenium.webdriver.remote.webelement.WebElement (session=\"84ca3dd7af1c1907dc8db72b4dda72a4\", element=\"deb2d36a-6b76-48be-a03c-99e8802396dc\")>,\n",
       " <selenium.webdriver.remote.webelement.WebElement (session=\"84ca3dd7af1c1907dc8db72b4dda72a4\", element=\"2687d6bb-42bb-4856-a8ab-53d27ae254dc\")>,\n",
       " <selenium.webdriver.remote.webelement.WebElement (session=\"84ca3dd7af1c1907dc8db72b4dda72a4\", element=\"51e973a2-0233-4c1a-b81e-83fd9a17bf9c\")>,\n",
       " <selenium.webdriver.remote.webelement.WebElement (session=\"84ca3dd7af1c1907dc8db72b4dda72a4\", element=\"8506149a-8066-44db-8233-75381797f6de\")>,\n",
       " <selenium.webdriver.remote.webelement.WebElement (session=\"84ca3dd7af1c1907dc8db72b4dda72a4\", element=\"0995e521-33e0-422d-baa6-88eb1d1cd909\")>,\n",
       " <selenium.webdriver.remote.webelement.WebElement (session=\"84ca3dd7af1c1907dc8db72b4dda72a4\", element=\"0997e53c-f40d-48ef-b85d-b5afd570db74\")>,\n",
       " <selenium.webdriver.remote.webelement.WebElement (session=\"84ca3dd7af1c1907dc8db72b4dda72a4\", element=\"3bb11b59-deb0-431d-95a2-6ee08b840c9d\")>,\n",
       " <selenium.webdriver.remote.webelement.WebElement (session=\"84ca3dd7af1c1907dc8db72b4dda72a4\", element=\"81a48d57-3974-4361-b241-cf6d77ef2d63\")>,\n",
       " <selenium.webdriver.remote.webelement.WebElement (session=\"84ca3dd7af1c1907dc8db72b4dda72a4\", element=\"4e226280-e6eb-46be-9a8d-5656fa027b9b\")>,\n",
       " <selenium.webdriver.remote.webelement.WebElement (session=\"84ca3dd7af1c1907dc8db72b4dda72a4\", element=\"c93a7772-505c-43fb-9e76-3b442b063c10\")>,\n",
       " <selenium.webdriver.remote.webelement.WebElement (session=\"84ca3dd7af1c1907dc8db72b4dda72a4\", element=\"cfb60d6a-a454-4eaf-ac75-6f6a4dbd1d6d\")>,\n",
       " <selenium.webdriver.remote.webelement.WebElement (session=\"84ca3dd7af1c1907dc8db72b4dda72a4\", element=\"3e7ab27f-68ed-4b7c-aaa4-a75e096b9e2e\")>,\n",
       " <selenium.webdriver.remote.webelement.WebElement (session=\"84ca3dd7af1c1907dc8db72b4dda72a4\", element=\"ed14ec91-7ea7-4bda-9f9e-bff1a1ef7b7c\")>,\n",
       " <selenium.webdriver.remote.webelement.WebElement (session=\"84ca3dd7af1c1907dc8db72b4dda72a4\", element=\"1f4e67c7-3f4e-479a-bf78-c27449594db4\")>,\n",
       " <selenium.webdriver.remote.webelement.WebElement (session=\"84ca3dd7af1c1907dc8db72b4dda72a4\", element=\"43537af9-80ac-4801-bc17-f87fa743ba06\")>,\n",
       " <selenium.webdriver.remote.webelement.WebElement (session=\"84ca3dd7af1c1907dc8db72b4dda72a4\", element=\"ff3b9941-f1f7-4382-910c-f69663047562\")>,\n",
       " <selenium.webdriver.remote.webelement.WebElement (session=\"84ca3dd7af1c1907dc8db72b4dda72a4\", element=\"c93ba1ca-9816-4086-b01f-02b22a511cc0\")>,\n",
       " <selenium.webdriver.remote.webelement.WebElement (session=\"84ca3dd7af1c1907dc8db72b4dda72a4\", element=\"9953678d-dc9b-40a1-a3f0-84cb3c812299\")>,\n",
       " <selenium.webdriver.remote.webelement.WebElement (session=\"84ca3dd7af1c1907dc8db72b4dda72a4\", element=\"1c9829cd-ae15-4e3a-b4a2-9ced237d9cee\")>,\n",
       " <selenium.webdriver.remote.webelement.WebElement (session=\"84ca3dd7af1c1907dc8db72b4dda72a4\", element=\"922ca9b1-62a6-4c2a-af8f-85253eb57348\")>,\n",
       " <selenium.webdriver.remote.webelement.WebElement (session=\"84ca3dd7af1c1907dc8db72b4dda72a4\", element=\"4c18e7f2-1424-418c-b785-0841b09e565d\")>,\n",
       " <selenium.webdriver.remote.webelement.WebElement (session=\"84ca3dd7af1c1907dc8db72b4dda72a4\", element=\"90e197c2-d3f1-4ee1-babe-b0031b517f9f\")>,\n",
       " <selenium.webdriver.remote.webelement.WebElement (session=\"84ca3dd7af1c1907dc8db72b4dda72a4\", element=\"31cbb273-f71e-4066-8a50-e691f84df1fb\")>,\n",
       " <selenium.webdriver.remote.webelement.WebElement (session=\"84ca3dd7af1c1907dc8db72b4dda72a4\", element=\"ca25deb7-1afd-4b46-9dca-9bc596d05060\")>,\n",
       " <selenium.webdriver.remote.webelement.WebElement (session=\"84ca3dd7af1c1907dc8db72b4dda72a4\", element=\"aa5c7df2-1e4a-4f0f-af96-08c9a90c8cd2\")>,\n",
       " <selenium.webdriver.remote.webelement.WebElement (session=\"84ca3dd7af1c1907dc8db72b4dda72a4\", element=\"e328d271-5ae6-4e52-a369-a73e433eb8f1\")>,\n",
       " <selenium.webdriver.remote.webelement.WebElement (session=\"84ca3dd7af1c1907dc8db72b4dda72a4\", element=\"74cebd79-9268-437d-a553-2637c1394893\")>,\n",
       " <selenium.webdriver.remote.webelement.WebElement (session=\"84ca3dd7af1c1907dc8db72b4dda72a4\", element=\"8444f18e-64d5-4a7e-9454-d36151082f24\")>,\n",
       " <selenium.webdriver.remote.webelement.WebElement (session=\"84ca3dd7af1c1907dc8db72b4dda72a4\", element=\"b26726b1-89c7-41a9-b014-e26aa6a7a716\")>,\n",
       " <selenium.webdriver.remote.webelement.WebElement (session=\"84ca3dd7af1c1907dc8db72b4dda72a4\", element=\"433fd869-24aa-4cda-84f4-8b536a6eb82d\")>,\n",
       " <selenium.webdriver.remote.webelement.WebElement (session=\"84ca3dd7af1c1907dc8db72b4dda72a4\", element=\"393d09b5-6f80-44ed-acd3-4b730fe31f63\")>,\n",
       " <selenium.webdriver.remote.webelement.WebElement (session=\"84ca3dd7af1c1907dc8db72b4dda72a4\", element=\"ac14100b-1ca0-49e0-a8d1-ca4e287f7c25\")>,\n",
       " <selenium.webdriver.remote.webelement.WebElement (session=\"84ca3dd7af1c1907dc8db72b4dda72a4\", element=\"76b13176-5c8b-4660-9e8b-97ecf3ac3115\")>,\n",
       " <selenium.webdriver.remote.webelement.WebElement (session=\"84ca3dd7af1c1907dc8db72b4dda72a4\", element=\"3cbc4341-0c7c-42e0-bd63-0ef8199c8703\")>,\n",
       " <selenium.webdriver.remote.webelement.WebElement (session=\"84ca3dd7af1c1907dc8db72b4dda72a4\", element=\"9eb223a3-4eff-4baf-9b94-cb3656b72537\")>,\n",
       " <selenium.webdriver.remote.webelement.WebElement (session=\"84ca3dd7af1c1907dc8db72b4dda72a4\", element=\"f8226375-cdaf-4fa2-8f25-317d1acd76d9\")>,\n",
       " <selenium.webdriver.remote.webelement.WebElement (session=\"84ca3dd7af1c1907dc8db72b4dda72a4\", element=\"0af6abee-6949-4725-8079-ebb7f4c29a97\")>,\n",
       " <selenium.webdriver.remote.webelement.WebElement (session=\"84ca3dd7af1c1907dc8db72b4dda72a4\", element=\"64740e8b-da1c-4560-a1d6-875f6b9ee4e1\")>]"
      ]
     },
     "execution_count": 9,
     "metadata": {},
     "output_type": "execute_result"
    }
   ],
   "source": [
    "title_tags = browser.find_elements_by_xpath(\"//div[@class='dataTables_scroll']\")\n",
    "title_tags"
   ]
  },
  {
   "cell_type": "code",
   "execution_count": 10,
   "id": "apparent-cause",
   "metadata": {},
   "outputs": [],
   "source": [
    "titles=[]\n",
    "for i in title_tags:\n",
    "    title=i.text\n",
    "    titles.append(title)"
   ]
  },
  {
   "cell_type": "code",
   "execution_count": 17,
   "id": "leading-hostel",
   "metadata": {},
   "outputs": [
    {
     "data": {
      "text/plain": [
       "[\"Sr. No. Date (dd/mm/yyyy) Startup Name Industry / Vertical Sub-Vertical City / Location Investors' Name Investment Type\\n1 08/09/2020 Byju’s EduTech Online Tutoring Bangalore Silver Lake, Tiger Global, General Atlantic and Owl Ventures\\nPrivate Equity 500,000,000\\n2 12/09/2020 mCaffeine Personal Care Skincare & Haircare Mumbai Amicus Capital Private Equity I LLP, Amicus Capital Partners India Fund I and RP-SG Venture Fund 1 Series B 3,000,000\\n3 09/09/2020 Qshala EduTech Online Curiosity Platform for Kids Bangalore Rainmatter Capital Angel 370,000\\n4 02/09/2020 Winzo Online Gaming Online Gaming New Delhi Kalaari Capital Partners, IndigoEdge Management Consultancy Series B 15,500,000\\n5 09/09/2020 Hippo Video Video Customer Experience(CX) Platform Video Customer Experience(CX) Platform Newark, Delaware, United States of Amercia Alpha Wave Incubation, Exfinity Venture Partners and existing backers.\\nSeries A 4,500,000\\n6 07/09/2020 Melorra E-commerce Online Jewelry Store\\nBangalore Shadow Holdings, Lightbox. Debt Financing upto 8,900,000\\n7 07/09/2020 1mg E-commerce Online Pharmacy Gurgaon Gaja Capital, Tata Capital, Partners Group In Progress 100,000,000\\n8 31/08/2020 mfine HealthTech On-Demand Healthcare Services Bangalore Caretech Pte Inc Series B 5,400,000\\n9 31/08/2020 Apna Human Resources Recruitment Platform Bangalore Lightspeed India and Sequoia Capital India Series A 8,000,000\\n10 03/09/2020 Railofy Transportation WL & RAC protection platform Mumbai Chiratae Ventures Seed 950,000\",\n",
       " \"Sr. No. Date (dd/mm/yyyy) Startup Name Industry / Vertical Sub-Vertical City / Location Investors' Name Investment Type\\n1 15/08/2020 Practo HealthTech Health care and Wellness Bangalore A1A Company\\nSeries F 32,000,000\\n2 13/08/2020 Medlife E-commerce Online Pharmacy Bangalore Prasid Uno Family Trust and SC Credit Fund 23,000,000\\n3 13/08/2020 HungerBox\\nFoodTech Online Food Delivery Service Bangalore One97, Sabre Partners Trust, Pratithi Investment Trust, and Srihari Kumar Series D1 1,560,000\\n4 04/08/2020 Dunzo Hyper-local Logistics Online Delivery Services Bangalore Existing Backers In Progress 30,000,000\\n5 11/08/2020 Terra.do EduTech Online Climate School, E-learning Stanford, California, Stanford Angels and Entrepreneurs (India), BEENEXT Emerging Asia, Rainmatter Capital\\n\\nSeed 1,400,000\\n6 12/08/2020 Classplus EduTech E-learning, Online Tutoring\\n\\nNoida Falcon Edge In Progress upto 15,000,000\\n7 14/08/2020 Niyo FinTech Financial Services Bangalore Niyo Solutions Inc. 6,000,000\\n8 10/08/2020 ZestMoney FinTech Financial Services Bangalore Primrose Hills Ventures 10,670,000\\n9 07/08/2020 FreshToHome E-commerce Food Delivery Bangalore Ascent Capital Venture 16,200,000\\n10 13/08/2020 Eduvanz FinTech Financial Services Mumbai Sequoia India, Unitus Series A 5,000,000\"]"
      ]
     },
     "execution_count": 17,
     "metadata": {},
     "output_type": "execute_result"
    }
   ],
   "source": [
    "#scraping from july-20 to september-20\n",
    "titles[7:9]"
   ]
  },
  {
   "cell_type": "code",
   "execution_count": null,
   "id": "junior-glasgow",
   "metadata": {},
   "outputs": [],
   "source": []
  }
 ],
 "metadata": {
  "kernelspec": {
   "display_name": "Python 3",
   "language": "python",
   "name": "python3"
  },
  "language_info": {
   "codemirror_mode": {
    "name": "ipython",
    "version": 3
   },
   "file_extension": ".py",
   "mimetype": "text/x-python",
   "name": "python",
   "nbconvert_exporter": "python",
   "pygments_lexer": "ipython3",
   "version": "3.9.2"
  }
 },
 "nbformat": 4,
 "nbformat_minor": 5
}
