{
 "cells": [
  {
   "cell_type": "markdown",
   "id": "meaning-thread",
   "metadata": {},
   "source": [
    "### write  a python program to scrape all the available details of top 10 gaming laptops  from digit.in"
   ]
  },
  {
   "cell_type": "code",
   "execution_count": 1,
   "id": "useful-simon",
   "metadata": {},
   "outputs": [],
   "source": [
    "import selenium # importing selenium\n",
    "from selenium import webdriver#importing webdriver\n",
    "from selenium.common.exceptions import StaleElementReferenceException, NoSuchElementException #importing exception "
   ]
  },
  {
   "cell_type": "code",
   "execution_count": 3,
   "id": "tutorial-august",
   "metadata": {},
   "outputs": [],
   "source": [
    "browser = webdriver.Chrome()\n",
    "browser.get(\"https://www.digit.in/top-products/best-laptop-for-programmers-3575.html\")"
   ]
  },
  {
   "cell_type": "code",
   "execution_count": 14,
   "id": "identical-conference",
   "metadata": {},
   "outputs": [
    {
     "data": {
      "text/plain": [
       "[<selenium.webdriver.remote.webelement.WebElement (session=\"a2da5a3dcabd3ac14c61d541045e1adf\", element=\"15e83ec9-c8bd-4b9b-95b3-d8ac5c649126\")>,\n",
       " <selenium.webdriver.remote.webelement.WebElement (session=\"a2da5a3dcabd3ac14c61d541045e1adf\", element=\"1f1f2875-8069-40d8-9649-2455a39874de\")>,\n",
       " <selenium.webdriver.remote.webelement.WebElement (session=\"a2da5a3dcabd3ac14c61d541045e1adf\", element=\"668deb78-a9d2-4d5d-b03d-1b5aba77d8ac\")>,\n",
       " <selenium.webdriver.remote.webelement.WebElement (session=\"a2da5a3dcabd3ac14c61d541045e1adf\", element=\"1d12b9e2-86ad-4530-967a-af0b6c0a0012\")>,\n",
       " <selenium.webdriver.remote.webelement.WebElement (session=\"a2da5a3dcabd3ac14c61d541045e1adf\", element=\"e592c37b-d0f0-40a5-970e-9c2071e017ca\")>,\n",
       " <selenium.webdriver.remote.webelement.WebElement (session=\"a2da5a3dcabd3ac14c61d541045e1adf\", element=\"97e4bce9-5dba-4efd-94f5-0238da9042cd\")>,\n",
       " <selenium.webdriver.remote.webelement.WebElement (session=\"a2da5a3dcabd3ac14c61d541045e1adf\", element=\"c393126c-b678-400b-8b64-1e1cdd4b32f8\")>,\n",
       " <selenium.webdriver.remote.webelement.WebElement (session=\"a2da5a3dcabd3ac14c61d541045e1adf\", element=\"b129b00b-e289-4951-98f7-93bf2f21dc45\")>,\n",
       " <selenium.webdriver.remote.webelement.WebElement (session=\"a2da5a3dcabd3ac14c61d541045e1adf\", element=\"14f8739c-3202-4f43-bf39-52b089186bb9\")>,\n",
       " <selenium.webdriver.remote.webelement.WebElement (session=\"a2da5a3dcabd3ac14c61d541045e1adf\", element=\"02599be0-38dc-4cf4-af2a-f210b100c9e0\")>]"
      ]
     },
     "execution_count": 14,
     "metadata": {},
     "output_type": "execute_result"
    }
   ],
   "source": [
    "title_tags = browser.find_elements_by_xpath(\"//div[@class='TopNumbeHeading active sticky-footer']\")\n",
    "title_tags"
   ]
  },
  {
   "cell_type": "code",
   "execution_count": 15,
   "id": "sweet-typing",
   "metadata": {},
   "outputs": [],
   "source": [
    "titles=[]\n",
    "for i in title_tags:\n",
    "    title=i.text\n",
    "    titles.append(title)"
   ]
  },
  {
   "cell_type": "code",
   "execution_count": 16,
   "id": "modern-darwin",
   "metadata": {},
   "outputs": [
    {
     "data": {
      "text/plain": [
       "['1.\\nAPPLE MACBOOK PRO 13-INCH',\n",
       " '2.\\nACER SWIFT 3',\n",
       " '3.\\nDELL XPS 15',\n",
       " '4.\\nAPPLE MACBOOK PRO 16-INCH',\n",
       " '5.\\nHP ENVY 15',\n",
       " '6.\\nLENOVO IDEAPAD S540',\n",
       " '7.\\nASUS ZENBOOK 14',\n",
       " '8.\\nHP SPECTRE X360',\n",
       " '9.\\nMICROSOFT SURFACE BOOK 2',\n",
       " '10.\\nASUS ZENBOOK DUO']"
      ]
     },
     "execution_count": 16,
     "metadata": {},
     "output_type": "execute_result"
    }
   ],
   "source": [
    "titles"
   ]
  },
  {
   "cell_type": "code",
   "execution_count": 33,
   "id": "athletic-lafayette",
   "metadata": {},
   "outputs": [
    {
     "data": {
      "text/plain": [
       "[<selenium.webdriver.remote.webelement.WebElement (session=\"a2da5a3dcabd3ac14c61d541045e1adf\", element=\"693174f7-11c5-4f33-acc1-8894c0a2dcd0\")>,\n",
       " <selenium.webdriver.remote.webelement.WebElement (session=\"a2da5a3dcabd3ac14c61d541045e1adf\", element=\"041a1350-b707-4e8c-87ae-117ca0a2fc8e\")>,\n",
       " <selenium.webdriver.remote.webelement.WebElement (session=\"a2da5a3dcabd3ac14c61d541045e1adf\", element=\"a8e5ce78-654d-476d-9d37-6a79239c52fc\")>,\n",
       " <selenium.webdriver.remote.webelement.WebElement (session=\"a2da5a3dcabd3ac14c61d541045e1adf\", element=\"a879767a-4289-4330-9ca4-79ca846ee959\")>,\n",
       " <selenium.webdriver.remote.webelement.WebElement (session=\"a2da5a3dcabd3ac14c61d541045e1adf\", element=\"4d8e7322-4be4-45a5-b450-92bdcc0b5b33\")>,\n",
       " <selenium.webdriver.remote.webelement.WebElement (session=\"a2da5a3dcabd3ac14c61d541045e1adf\", element=\"34ed9526-bef3-4028-bb52-cb82b4909b75\")>,\n",
       " <selenium.webdriver.remote.webelement.WebElement (session=\"a2da5a3dcabd3ac14c61d541045e1adf\", element=\"37e92c23-b739-4326-a5a8-35d0c7c3cfee\")>,\n",
       " <selenium.webdriver.remote.webelement.WebElement (session=\"a2da5a3dcabd3ac14c61d541045e1adf\", element=\"2e6a3281-7584-4447-b429-fbab5da30984\")>,\n",
       " <selenium.webdriver.remote.webelement.WebElement (session=\"a2da5a3dcabd3ac14c61d541045e1adf\", element=\"bdffc2f9-deee-4ea8-9fb1-182b8766d59c\")>,\n",
       " <selenium.webdriver.remote.webelement.WebElement (session=\"a2da5a3dcabd3ac14c61d541045e1adf\", element=\"fb6001a4-80e3-41d7-a8b6-4ebb2af1e067\")>]"
      ]
     },
     "execution_count": 33,
     "metadata": {},
     "output_type": "execute_result"
    }
   ],
   "source": [
    "windows_tags = browser.find_elements_by_xpath(\"//div[@class='product-detail']\")\n",
    "windows_tags"
   ]
  },
  {
   "cell_type": "code",
   "execution_count": 38,
   "id": "geological-skiing",
   "metadata": {},
   "outputs": [],
   "source": [
    "productdetail=[]\n",
    "for i in windows_tags:\n",
    "    wind=i.text\n",
    "    productdetail.append(wind)"
   ]
  },
  {
   "cell_type": "code",
   "execution_count": 39,
   "id": "excellent-starter",
   "metadata": {},
   "outputs": [
    {
     "data": {
      "text/plain": [
       "['OS\\nNA\\nDISPLAY\\n13 MP | NA\\nPROCESSOR\\nNA\\nMEMORY\\nNA NULL/3 GBGB NULL\\nREAD REVIEW FULL SPECS OTHER APPLE LAPTOPS',\n",
       " 'OS\\nWINDOWS 10 HOME\\nDISPLAY\\n14 INCH\" (1920 X 1080)\\nPROCESSOR\\nRYZEN 5 4500U | 4.0GHZ\\nMEMORY\\n512 GB NVME/8 GBGB LPDDR4\\nFULL SPECS OTHER ACER LAPTOPS',\n",
       " 'OS\\nWINDOWS 10 HOME\\nDISPLAY\\n15.6\" (3840 X 2400)\\nPROCESSOR\\n10TH-GENERATION INTEL CORE I9-10885H | NA\\nMEMORY\\n256 GB SSD/16 GBGB DDR4\\nFULL SPECS OTHER DELL LAPTOPS',\n",
       " 'OS\\nIOS\\nDISPLAY\\n16\" (3072 X 1920)\\nPROCESSOR\\nINTEL CORE I9 8TH GEN | NA\\nMEMORY\\n512 GB SSD/16 GBGB DDR4\\nREAD REVIEW FULL SPECS OTHER APPLE LAPTOPS',\n",
       " 'OS\\nWINDOWS 10\\nDISPLAY\\n15\" (1920 X 1080)\\nPROCESSOR\\nINTEL I7-10750H 10TH GEN | 2.6 GHZ\\nMEMORY\\n1 TB SSD/16 GBGB DDR4\\nREAD REVIEW FULL SPECS OTHER HP LAPTOPS',\n",
       " 'OS\\nWINDOWS 10 HOME\\nDISPLAY\\n14\" (1920 X 1080)\\nPROCESSOR\\n8TH GEN INTEL CORE I5-8565U | 1.6 GHZ\\nMEMORY\\n512 GB SSD/12GB DDR4\\nFULL SPECS OTHER LENOVO LAPTOPS',\n",
       " 'OS\\nWINDOWS 10 HOME\\nDISPLAY\\n14\" (1920 X 1080)\\nPROCESSOR\\n10TH GEN INTEL CORE I5-1035G1 | 3.6 GHZ\\nMEMORY\\n512 GB SSD/8 GBGB DDR4\\nFULL SPECS OTHER ASUS LAPTOPS',\n",
       " 'OS\\nWINDOWS 10 PROFESSIONAL\\nDISPLAY\\n13.3\" (1920X1080)\\nPROCESSOR\\n8TH GEN INTEL CORE I5-8250U | 1.6GHZ\\nMEMORY\\n360 GB NA/8 GBGB DDR4\\nREAD REVIEW FULL SPECS OTHER HP LAPTOPS',\n",
       " 'OS\\nWINDOWS 10 PRO CREATORS\\nDISPLAY\\n15\" (3240 X 2160)\\nPROCESSOR\\n8TH GEN INTEL® CORE™ I7-8650U | 4.2 GHZ\\nMEMORY\\n256GB, 512GB, 1TB SSD/16GB DDR3\\nFULL SPECS OTHER MICROSOFT LAPTOPS',\n",
       " 'OS\\nWINDOWS 10 HOME\\nDISPLAY\\n1\" (1920 X 1080)\\nPROCESSOR\\n10TH GEN INTEL CORE I5-10210U PROCESSOR | 1.6 GHZ\\nMEMORY\\n512GB SSD/8GB LPDDR3\\nFULL SPECS OTHER ASUS LAPTOPS']"
      ]
     },
     "execution_count": 39,
     "metadata": {},
     "output_type": "execute_result"
    }
   ],
   "source": [
    "productdetail"
   ]
  },
  {
   "cell_type": "code",
   "execution_count": 51,
   "id": "beautiful-chorus",
   "metadata": {},
   "outputs": [],
   "source": [
    "urls=browser.find_elements_by_xpath(\"//div[@class='product-ickon']/img\")\n",
    "UR=[]\n",
    "for i in urls:\n",
    "    UR.append(i.get_attribute('src'))"
   ]
  },
  {
   "cell_type": "code",
   "execution_count": 52,
   "id": "aggressive-seattle",
   "metadata": {},
   "outputs": [
    {
     "data": {
      "text/plain": [
       "['https://static.digit.in/product/thumb_157421_product_td_300.jpeg',\n",
       " 'https://static.digit.in/product/thumb_174975_product_td_300.jpeg',\n",
       " 'https://static.digit.in/product/thumb_158295_product_td_300.jpeg',\n",
       " 'https://static.digit.in/product/thumb_151182_product_td_300.jpeg',\n",
       " 'https://static.digit.in/product/thumb_167472_product_td_300.jpeg',\n",
       " 'https://static.digit.in/product/thumb_137545_product_td_300.png',\n",
       " 'https://static.digit.in/product/thumb_167803_product_td_300.jpeg',\n",
       " 'https://static.digit.in/default/thumb_126148_default_td_300.png',\n",
       " 'https://static.digit.in/default/thumb_126448_default_td_300.png',\n",
       " 'https://static.digit.in/product/thumb_141401_product_td_300.png']"
      ]
     },
     "execution_count": 52,
     "metadata": {},
     "output_type": "execute_result"
    }
   ],
   "source": [
    "UR"
   ]
  },
  {
   "cell_type": "code",
   "execution_count": 53,
   "id": "perfect-purple",
   "metadata": {},
   "outputs": [
    {
     "data": {
      "text/html": [
       "<div>\n",
       "<style scoped>\n",
       "    .dataframe tbody tr th:only-of-type {\n",
       "        vertical-align: middle;\n",
       "    }\n",
       "\n",
       "    .dataframe tbody tr th {\n",
       "        vertical-align: top;\n",
       "    }\n",
       "\n",
       "    .dataframe thead th {\n",
       "        text-align: right;\n",
       "    }\n",
       "</style>\n",
       "<table border=\"1\" class=\"dataframe\">\n",
       "  <thead>\n",
       "    <tr style=\"text-align: right;\">\n",
       "      <th></th>\n",
       "      <th>titles</th>\n",
       "      <th>productdetail</th>\n",
       "      <th>imageurl</th>\n",
       "    </tr>\n",
       "  </thead>\n",
       "  <tbody>\n",
       "    <tr>\n",
       "      <th>0</th>\n",
       "      <td>1.\\nAPPLE MACBOOK PRO 13-INCH</td>\n",
       "      <td>OS\\nNA\\nDISPLAY\\n13 MP | NA\\nPROCESSOR\\nNA\\nME...</td>\n",
       "      <td>https://static.digit.in/product/thumb_157421_p...</td>\n",
       "    </tr>\n",
       "    <tr>\n",
       "      <th>1</th>\n",
       "      <td>2.\\nACER SWIFT 3</td>\n",
       "      <td>OS\\nWINDOWS 10 HOME\\nDISPLAY\\n14 INCH\" (1920 X...</td>\n",
       "      <td>https://static.digit.in/product/thumb_174975_p...</td>\n",
       "    </tr>\n",
       "    <tr>\n",
       "      <th>2</th>\n",
       "      <td>3.\\nDELL XPS 15</td>\n",
       "      <td>OS\\nWINDOWS 10 HOME\\nDISPLAY\\n15.6\" (3840 X 24...</td>\n",
       "      <td>https://static.digit.in/product/thumb_158295_p...</td>\n",
       "    </tr>\n",
       "    <tr>\n",
       "      <th>3</th>\n",
       "      <td>4.\\nAPPLE MACBOOK PRO 16-INCH</td>\n",
       "      <td>OS\\nIOS\\nDISPLAY\\n16\" (3072 X 1920)\\nPROCESSOR...</td>\n",
       "      <td>https://static.digit.in/product/thumb_151182_p...</td>\n",
       "    </tr>\n",
       "    <tr>\n",
       "      <th>4</th>\n",
       "      <td>5.\\nHP ENVY 15</td>\n",
       "      <td>OS\\nWINDOWS 10\\nDISPLAY\\n15\" (1920 X 1080)\\nPR...</td>\n",
       "      <td>https://static.digit.in/product/thumb_167472_p...</td>\n",
       "    </tr>\n",
       "    <tr>\n",
       "      <th>5</th>\n",
       "      <td>6.\\nLENOVO IDEAPAD S540</td>\n",
       "      <td>OS\\nWINDOWS 10 HOME\\nDISPLAY\\n14\" (1920 X 1080...</td>\n",
       "      <td>https://static.digit.in/product/thumb_137545_p...</td>\n",
       "    </tr>\n",
       "    <tr>\n",
       "      <th>6</th>\n",
       "      <td>7.\\nASUS ZENBOOK 14</td>\n",
       "      <td>OS\\nWINDOWS 10 HOME\\nDISPLAY\\n14\" (1920 X 1080...</td>\n",
       "      <td>https://static.digit.in/product/thumb_167803_p...</td>\n",
       "    </tr>\n",
       "    <tr>\n",
       "      <th>7</th>\n",
       "      <td>8.\\nHP SPECTRE X360</td>\n",
       "      <td>OS\\nWINDOWS 10 PROFESSIONAL\\nDISPLAY\\n13.3\" (1...</td>\n",
       "      <td>https://static.digit.in/default/thumb_126148_d...</td>\n",
       "    </tr>\n",
       "    <tr>\n",
       "      <th>8</th>\n",
       "      <td>9.\\nMICROSOFT SURFACE BOOK 2</td>\n",
       "      <td>OS\\nWINDOWS 10 PRO CREATORS\\nDISPLAY\\n15\" (324...</td>\n",
       "      <td>https://static.digit.in/default/thumb_126448_d...</td>\n",
       "    </tr>\n",
       "    <tr>\n",
       "      <th>9</th>\n",
       "      <td>10.\\nASUS ZENBOOK DUO</td>\n",
       "      <td>OS\\nWINDOWS 10 HOME\\nDISPLAY\\n1\" (1920 X 1080)...</td>\n",
       "      <td>https://static.digit.in/product/thumb_141401_p...</td>\n",
       "    </tr>\n",
       "  </tbody>\n",
       "</table>\n",
       "</div>"
      ],
      "text/plain": [
       "                          titles  \\\n",
       "0  1.\\nAPPLE MACBOOK PRO 13-INCH   \n",
       "1               2.\\nACER SWIFT 3   \n",
       "2                3.\\nDELL XPS 15   \n",
       "3  4.\\nAPPLE MACBOOK PRO 16-INCH   \n",
       "4                 5.\\nHP ENVY 15   \n",
       "5        6.\\nLENOVO IDEAPAD S540   \n",
       "6            7.\\nASUS ZENBOOK 14   \n",
       "7            8.\\nHP SPECTRE X360   \n",
       "8   9.\\nMICROSOFT SURFACE BOOK 2   \n",
       "9          10.\\nASUS ZENBOOK DUO   \n",
       "\n",
       "                                       productdetail  \\\n",
       "0  OS\\nNA\\nDISPLAY\\n13 MP | NA\\nPROCESSOR\\nNA\\nME...   \n",
       "1  OS\\nWINDOWS 10 HOME\\nDISPLAY\\n14 INCH\" (1920 X...   \n",
       "2  OS\\nWINDOWS 10 HOME\\nDISPLAY\\n15.6\" (3840 X 24...   \n",
       "3  OS\\nIOS\\nDISPLAY\\n16\" (3072 X 1920)\\nPROCESSOR...   \n",
       "4  OS\\nWINDOWS 10\\nDISPLAY\\n15\" (1920 X 1080)\\nPR...   \n",
       "5  OS\\nWINDOWS 10 HOME\\nDISPLAY\\n14\" (1920 X 1080...   \n",
       "6  OS\\nWINDOWS 10 HOME\\nDISPLAY\\n14\" (1920 X 1080...   \n",
       "7  OS\\nWINDOWS 10 PROFESSIONAL\\nDISPLAY\\n13.3\" (1...   \n",
       "8  OS\\nWINDOWS 10 PRO CREATORS\\nDISPLAY\\n15\" (324...   \n",
       "9  OS\\nWINDOWS 10 HOME\\nDISPLAY\\n1\" (1920 X 1080)...   \n",
       "\n",
       "                                            imageurl  \n",
       "0  https://static.digit.in/product/thumb_157421_p...  \n",
       "1  https://static.digit.in/product/thumb_174975_p...  \n",
       "2  https://static.digit.in/product/thumb_158295_p...  \n",
       "3  https://static.digit.in/product/thumb_151182_p...  \n",
       "4  https://static.digit.in/product/thumb_167472_p...  \n",
       "5  https://static.digit.in/product/thumb_137545_p...  \n",
       "6  https://static.digit.in/product/thumb_167803_p...  \n",
       "7  https://static.digit.in/default/thumb_126148_d...  \n",
       "8  https://static.digit.in/default/thumb_126448_d...  \n",
       "9  https://static.digit.in/product/thumb_141401_p...  "
      ]
     },
     "execution_count": 53,
     "metadata": {},
     "output_type": "execute_result"
    }
   ],
   "source": [
    "import pandas as pd #for data visualization\n",
    "digit=pd.DataFrame({})\n",
    "digit['titles']=titles\n",
    "digit['productdetail']=productdetail\n",
    "digit['imageurl']=UR\n",
    "digit\n"
   ]
  },
  {
   "cell_type": "code",
   "execution_count": null,
   "id": "instant-longitude",
   "metadata": {},
   "outputs": [],
   "source": []
  }
 ],
 "metadata": {
  "kernelspec": {
   "display_name": "Python 3",
   "language": "python",
   "name": "python3"
  },
  "language_info": {
   "codemirror_mode": {
    "name": "ipython",
    "version": 3
   },
   "file_extension": ".py",
   "mimetype": "text/x-python",
   "name": "python",
   "nbconvert_exporter": "python",
   "pygments_lexer": "ipython3",
   "version": "3.9.2"
  }
 },
 "nbformat": 4,
 "nbformat_minor": 5
}
